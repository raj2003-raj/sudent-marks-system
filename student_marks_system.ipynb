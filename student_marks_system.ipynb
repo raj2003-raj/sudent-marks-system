{
 "cells": [
  {
   "cell_type": "code",
   "execution_count": null,
   "id": "5460712a-fb3b-4183-8a2f-271ca34bffc8",
   "metadata": {},
   "outputs": [
    {
     "name": "stdout",
     "output_type": "stream",
     "text": [
      "\n",
      "1.add student\n",
      "2.view students\n",
      "3. Exit\n"
     ]
    },
    {
     "name": "stdin",
     "output_type": "stream",
     "text": [
      "Enter choice: 1\n",
      "Enter your name: raj\n",
      "Enter your marks 34\n"
     ]
    },
    {
     "name": "stdout",
     "output_type": "stream",
     "text": [
      "student add succesfully\n",
      "\n",
      "1.add student\n",
      "2.view students\n",
      "3. Exit\n"
     ]
    },
    {
     "name": "stdin",
     "output_type": "stream",
     "text": [
      "Enter choice: 2\n"
     ]
    },
    {
     "name": "stdout",
     "output_type": "stream",
     "text": [
      "raj: 34.0\n",
      "\n",
      "1.add student\n",
      "2.view students\n",
      "3. Exit\n"
     ]
    }
   ],
   "source": [
    "import json\n",
    "def load_data():\n",
    "    try:\n",
    "        with open(\"student.json\",\"r\") as f:\n",
    "            return json.load(f)\n",
    "    except FileNotFoundError:\n",
    "        return{} \n",
    "def save_data(data):\n",
    "    with open(\"student.json\",\"w\") as f:\n",
    "        json.dump(data,f,indent=4)\n",
    "        \n",
    "def add_students(data):\n",
    "    name = input(\"Enter your name:\")\n",
    "    marks = float(input(\"Enter your marks\"))\n",
    "    data[name] = marks \n",
    "    print(\"student add succesfully\")\n",
    "    \n",
    "def view_students(data):\n",
    "    for name, marks in data.items():\n",
    "        print(f\"{name}: {marks}\")\n",
    "\n",
    "def main():\n",
    "    data = load_data()\n",
    "    while True:\n",
    "        print(\"\\n1.add student\\n2.view students\\n3. Exit\")\n",
    "        choice = input(\"Enter choice:\")\n",
    "        if choice == '1':\n",
    "            add_students(data)\n",
    "            save_data(data)\n",
    "        elif choice == '2':\n",
    "            view_students(data)\n",
    "        elif choice == '3':\n",
    "            break\n",
    "            print(\"invalid statement\")\n",
    "\n",
    "main()\n",
    "        \n",
    "            \n",
    "        \n",
    "    "
   ]
  },
  {
   "cell_type": "code",
   "execution_count": null,
   "id": "b216d325-87d8-4da6-ab25-038562ec79e7",
   "metadata": {},
   "outputs": [],
   "source": []
  }
 ],
 "metadata": {
  "kernelspec": {
   "display_name": "Python [conda env:base] *",
   "language": "python",
   "name": "conda-base-py"
  },
  "language_info": {
   "codemirror_mode": {
    "name": "ipython",
    "version": 3
   },
   "file_extension": ".py",
   "mimetype": "text/x-python",
   "name": "python",
   "nbconvert_exporter": "python",
   "pygments_lexer": "ipython3",
   "version": "3.12.7"
  }
 },
 "nbformat": 4,
 "nbformat_minor": 5
}
